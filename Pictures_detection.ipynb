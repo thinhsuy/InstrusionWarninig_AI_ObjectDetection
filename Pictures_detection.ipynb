{
 "cells": [
  {
   "cell_type": "code",
   "execution_count": 115,
   "metadata": {},
   "outputs": [],
   "source": [
    "# import the necessary packages\n",
    "import numpy as np\n",
    "import argparse\n",
    "import time\n",
    "import cv2\n",
    "import os\n",
    "# construct the argument parse and parse the arguments\n",
    "# ap = argparse.ArgumentParser()\n",
    "# ap.add_argument(\"-i\", \"--image\", required=True,\n",
    "# \thelp=\"path to input image\")\n",
    "# ap.add_argument(\"-y\", \"--yolo\", required=True,\n",
    "# \thelp=\"base path to YOLO directory\")\n",
    "# ap.add_argument(\"-c\", \"--confidence\", type=float, default=0.5,\n",
    "# \thelp=\"minimum probability to filter weak detections\")\n",
    "# ap.add_argument(\"-t\", \"--threshold\", type=float, default=0.3,\n",
    "# \thelp=\"threshold when applying non-maxima suppression\")\n",
    "# args = vars(ap.parse_args())"
   ]
  },
  {
   "cell_type": "code",
   "execution_count": 116,
   "metadata": {},
   "outputs": [],
   "source": [
    "# load the COCO class labels our YOLO model was trained on\n",
    "labelsPath = os.path.sep.join([\"classnames.txt\"])\n",
    "LABELS = open(labelsPath).read().strip().split(\"\\n\")\n",
    "# initialize a list of colors to represent each possible class label\n",
    "np.random.seed(42)\n",
    "COLORS = np.random.randint(0, 255, size=(len(LABELS), 3),\n",
    "\tdtype=\"uint8\")"
   ]
  },
  {
   "cell_type": "code",
   "execution_count": 117,
   "metadata": {},
   "outputs": [
    {
     "name": "stdout",
     "output_type": "stream",
     "text": [
      "[INFO] loading YOLO from disk...\n"
     ]
    }
   ],
   "source": [
    "# derive the paths to the YOLO weights and model configuration\n",
    "weightsPath = os.path.sep.join([\"yolov4.weights\"])\n",
    "configPath = os.path.sep.join([\"yolov4.cfg\"])\n",
    "# load our YOLO object detector trained on COCO dataset (80 classes)\n",
    "print(\"[INFO] loading YOLO from disk...\")\n",
    "net = cv2.dnn.readNetFromDarknet(configPath, weightsPath)"
   ]
  },
  {
   "cell_type": "code",
   "execution_count": 118,
   "metadata": {},
   "outputs": [
    {
     "name": "stdout",
     "output_type": "stream",
     "text": [
      "[INFO] YOLO took 0.590856 seconds\n"
     ]
    }
   ],
   "source": [
    "# load our input image and grab its spatial dimensionsD:\\Sequence\\\n",
    "image = cv2.imread('../../../Pictures/a7/HoiTraiKhoi12/26.jpg')\n",
    "(H, W) = image.shape[:2]\n",
    "# determine only the *output* layer names that we need from YOLO\n",
    "ln = net.getLayerNames()\n",
    "ln = [ln[i - 1] for i in net.getUnconnectedOutLayers()]\n",
    "# construct a blob from the input image and then perform a forward\n",
    "# pass of the YOLO object detector, giving us our bounding boxes and\n",
    "# associated probabilities\n",
    "blob = cv2.dnn.blobFromImage(image, 1 / 255.0, (256, 256), swapRB=True, crop=False)\n",
    "net.setInput(blob)\n",
    "start = time.time()\n",
    "layerOutputs = net.forward(ln)\n",
    "end = time.time()\n",
    "# show timing information on YOLO\n",
    "print(\"[INFO] YOLO took {:.6f} seconds\".format(end - start))"
   ]
  },
  {
   "cell_type": "code",
   "execution_count": 119,
   "metadata": {},
   "outputs": [],
   "source": [
    "# initialize our lists of detected bounding boxes, confidences, and\n",
    "# class IDs, respectively\n",
    "boxes = []\n",
    "confidences = []\n",
    "classIDs = []"
   ]
  },
  {
   "cell_type": "code",
   "execution_count": 120,
   "metadata": {},
   "outputs": [],
   "source": [
    "# loop over each of the layer outputs\n",
    "for output in layerOutputs:\n",
    "\t# loop over each of the detections\n",
    "\tfor detection in output:\n",
    "\t\t# extract the class ID and confidence (i.e., probability) of\n",
    "\t\t# the current object detection\n",
    "\t\tscores = detection[5:]\n",
    "\t\tclassID = np.argmax(scores)\n",
    "\t\tconfidence = scores[classID]\n",
    "\t\t# filter out weak predictions by ensuring the detected\n",
    "\t\t# probability is greater than the minimum probability\n",
    "\t\tif confidence > 0.5:\n",
    "\t\t\t# scale the bounding box coordinates back relative to the\n",
    "\t\t\t# size of the image, keeping in mind that YOLO actually\n",
    "\t\t\t# returns the center (x, y)-coordinates of the bounding\n",
    "\t\t\t# box followed by the boxes' width and height\n",
    "\t\t\tbox = detection[0:4] * np.array([W, H, W, H])\n",
    "\t\t\t(centerX, centerY, width, height) = box.astype(\"int\")\n",
    "\t\t\t# use the center (x, y)-coordinates to derive the top and\n",
    "\t\t\t# and left corner of the bounding box\n",
    "\t\t\tx = int(centerX - (width / 2))\n",
    "\t\t\ty = int(centerY - (height / 2))\n",
    "\t\t\t# update our list of bounding box coordinates, confidences,\n",
    "\t\t\t# and class IDs\n",
    "\t\t\tboxes.append([x, y, int(width), int(height)])\n",
    "\t\t\tconfidences.append(float(confidence))\n",
    "\t\t\tclassIDs.append(classID)"
   ]
  },
  {
   "cell_type": "code",
   "execution_count": 121,
   "metadata": {},
   "outputs": [],
   "source": [
    "# apply non-maxima suppression to suppress weak, overlapping bounding\n",
    "# boxes\n",
    "idxs = cv2.dnn.NMSBoxes(boxes, confidences, 0.5, 0.3)"
   ]
  },
  {
   "cell_type": "code",
   "execution_count": 122,
   "metadata": {},
   "outputs": [
    {
     "name": "stdout",
     "output_type": "stream",
     "text": [
      "(1334, 2048, 3)\n"
     ]
    },
    {
     "data": {
      "text/plain": [
       "-1"
      ]
     },
     "execution_count": 122,
     "metadata": {},
     "output_type": "execute_result"
    }
   ],
   "source": [
    "# ensure at least one detection exists\n",
    "if len(idxs) > 0:\n",
    "\t# loop over the indexes we are keeping\n",
    "\tfor i in idxs.flatten():\n",
    "\t\t# extract the bounding box coordinates\n",
    "\t\t(x, y) = (boxes[i][0], boxes[i][1])\n",
    "\t\t(w, h) = (boxes[i][2], boxes[i][3])\n",
    "\t\t# draw a bounding box rectangle and label on the image\n",
    "\t\tcolor = [int(c) for c in COLORS[classIDs[i]]]\n",
    "\t\tcv2.rectangle(image, (x, y), (x + w, y + h), color, 2)\n",
    "\t\ttext = \"{}: {:.4f}\".format(LABELS[classIDs[i]], confidences[i])\n",
    "\t\tcv2.putText(image, text, (x, y - 5), cv2.FONT_HERSHEY_SIMPLEX, 0.5, color, 2)\n",
    "# show the output image\n",
    "cv2.imshow(\"Image\", cv2.resize(image, (int(image.shape[1]/3), int(image.shape[0]/3))))\n",
    "cv2.waitKey(0)"
   ]
  },
  {
   "attachments": {},
   "cell_type": "markdown",
   "metadata": {},
   "source": [
    "# Other ways"
   ]
  },
  {
   "cell_type": "code",
   "execution_count": 131,
   "metadata": {},
   "outputs": [],
   "source": [
    "import cv2\n",
    "\n",
    "img = cv2.imread('../../../Pictures/a7/HoiTraiKhoi12/16.jpg')\n",
    "\n",
    "with open('classnames.txt', 'r') as f:\n",
    "    classes = f.read().splitlines()\n",
    "\n",
    "net = cv2.dnn.readNetFromDarknet('yolov4.cfg', 'yolov4.weights')\n",
    "\n",
    "model = cv2.dnn_DetectionModel(net)\n",
    "model.setInputParams(scale=1 / 255, size=(416, 416), swapRB=True)\n",
    "\n",
    "classIds, scores, boxes = model.detect(img, confThreshold=0.6, nmsThreshold=0.4)\n",
    "\n",
    "for (classId, score, box) in zip(classIds, scores, boxes):\n",
    "    cv2.rectangle(img, (box[0], box[1]), (box[0] + box[2], box[1] + box[3]),\n",
    "                  color=(0, 255, 0), thickness=2)\n",
    "\n",
    "    text = '%s: %.2f' % (classes[classId], score)\n",
    "    cv2.putText(img, text, (box[0], box[1] - 5), cv2.FONT_HERSHEY_SIMPLEX, 1,\n",
    "                color=(0, 255, 0), thickness=2)\n",
    "\n",
    "cv2.imshow(\"Image\", cv2.resize(img, (int(img.shape[1]/3), int(img.shape[0]/3))))\n",
    "cv2.waitKey(0)\n",
    "cv2.destroyAllWindows()"
   ]
  }
 ],
 "metadata": {
  "kernelspec": {
   "display_name": "Python 3",
   "language": "python",
   "name": "python3"
  },
  "language_info": {
   "codemirror_mode": {
    "name": "ipython",
    "version": 3
   },
   "file_extension": ".py",
   "mimetype": "text/x-python",
   "name": "python",
   "nbconvert_exporter": "python",
   "pygments_lexer": "ipython3",
   "version": "3.10.2"
  },
  "orig_nbformat": 4
 },
 "nbformat": 4,
 "nbformat_minor": 2
}
